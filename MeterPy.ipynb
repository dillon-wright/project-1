{
 "cells": [
  {
   "cell_type": "code",
   "execution_count": 259,
   "metadata": {},
   "outputs": [],
   "source": [
    "# Dependencies and Setup\n",
    "import pandas as pd\n"
   ]
  },
  {
   "cell_type": "code",
   "execution_count": 260,
   "metadata": {},
   "outputs": [],
   "source": [
    "# identify the data files\n",
    "sensor_data_20_path = 'Data/Parking_Sensor_Data_2020.csv'\n",
    "sensor_data_19_path = 'Data/Parking_Sensor_Data_2019.csv'\n",
    "sensors_path = 'Data/Parking_Bay_Sensors.csv'\n",
    "\n",
    "# test data read\n",
    "# sensor_data_20_path = 'Data/sensor_data_20.csv'\n",
    "# sensor_data_19_path = 'Data/sensor_data_19.csv'\n",
    "\n",
    "# Read the data \n",
    "\n",
    "# vehicle movement on each parking sensor, date, sensor id & duration\n",
    "sensor_data_20_df = pd.read_csv(sensor_data_20_path)\n",
    "sensor_data_19_df = pd.read_csv(sensor_data_19_path)\n",
    "\n",
    "# sensor location (lat & lon) and the unique id\n",
    "sensors_df = pd.read_csv(sensors_path)\n"
   ]
  },
  {
   "cell_type": "code",
   "execution_count": 247,
   "metadata": {},
   "outputs": [],
   "source": [
    "#Create test data \n",
    "# output_data_file = 'Data/sensor_data_19.csv'\n",
    "# test_data_19 = sensor_data_19_df[(sensor_data_19_df['BayId'] == 3689) | (sensor_data_19_df['BayId'] == 6749)]\n",
    "# test_data_19.to_csv(output_data_file, encoding='utf-8', index=False)\n",
    "\n",
    "# output_data_file = 'Data/sensor_data_20.csv'\n",
    "# test_data_20 = sensor_data_20_df[(sensor_data_20_df['BayId'] == 3042) | (sensor_data_20_df['BayId'] == 3511)]\n",
    "# test_data_20.to_csv(output_data_file, encoding='utf-8', index=False)\n"
   ]
  },
  {
   "cell_type": "code",
   "execution_count": 261,
   "metadata": {},
   "outputs": [],
   "source": [
    "# rename the bay id column to macth up with the transaction data\n",
    "sensors_df = sensors_df.rename(columns = {'bay_id' : 'BayId'} )"
   ]
  },
  {
   "cell_type": "code",
   "execution_count": 262,
   "metadata": {},
   "outputs": [],
   "source": [
    "# drop unused columns to reduce the size\n",
    "sensors_df = sensors_df.drop(columns=['status', 'location'])\n",
    "sensor_data_20_df = sensor_data_20_df.drop(columns=['SignPlateID','Sign','AreaName','StreetId','StreetName',\n",
    "                                                    'BetweenStreet1ID',\n",
    "                                                    'BetweenStreet1','BetweenStreet2ID','BetweenStreet2','SideOfStreet',\n",
    "                                                    'SideName','InViolation','VehiclePresent'])\n",
    "sensor_data_19_df = sensor_data_19_df.drop(columns=['SignPlateID','Sign','AreaName','StreetId','StreetName',\n",
    "                                                    'BetweenStreet1ID',\n",
    "                                                    'BetweenStreet1','BetweenStreet2ID','BetweenStreet2','SideOfStreet','SideOfStreetCode',\n",
    "                                                    'SideName','InViolation','VehiclePresent'])\n"
   ]
  },
  {
   "cell_type": "code",
   "execution_count": 152,
   "metadata": {},
   "outputs": [],
   "source": [
    "#sensor_data_19_df\n",
    "#sensor_data_20_df"
   ]
  },
  {
   "cell_type": "code",
   "execution_count": 263,
   "metadata": {},
   "outputs": [],
   "source": [
    "# drop NAN rows from all 3 data sets\n",
    "sensors_df = sensors_df.dropna()\n",
    "sensor_data_20_df = sensor_data_20_df.dropna()\n",
    "sensor_data_19_df = sensor_data_19_df.dropna()"
   ]
  },
  {
   "cell_type": "code",
   "execution_count": 264,
   "metadata": {},
   "outputs": [],
   "source": [
    "# Select only rows with more than 2 minutes duration\n",
    "sensor_data_20_df = sensor_data_20_df[(sensor_data_20_df['DurationMinutes'] > 2)]\n",
    "sensor_data_19_df = sensor_data_19_df[(sensor_data_19_df['DurationMinutes'] > 2)]"
   ]
  },
  {
   "cell_type": "code",
   "execution_count": 265,
   "metadata": {},
   "outputs": [],
   "source": [
    "# Create a new Date column and set the date format to DD-MM-YYYY\n",
    "sensor_data_20_df['Date'] = pd.to_datetime(sensor_data_20_df['DepartureTime']).dt.strftime('%d-%m-%Y')\n",
    "sensor_data_19_df['Date'] = pd.to_datetime(sensor_data_19_df['DepartureTime']).dt.strftime('%d-%m-%Y')"
   ]
  },
  {
   "cell_type": "code",
   "execution_count": 266,
   "metadata": {},
   "outputs": [],
   "source": [
    "# group by date & bay id and count the number of records (DeviceId)\n",
    "# drop unused column and rename the DeviceId to Vehicle Count\n",
    "\n",
    "# 2020 data\n",
    "sensor_data_20_gr_df = sensor_data_20_df.groupby(['Date','BayId'], as_index=False).count()\n",
    "sensor_data_20_gr_df = sensor_data_20_gr_df.drop(columns=['ArrivalTime','DepartureTime','StreetMarker','DurationMinutes'])\n",
    "sensor_data_20_gr_df = sensor_data_20_gr_df.rename(columns = {'DeviceId' : 'Vehicle Count'} )\n",
    "\n",
    "# 2019 data\n",
    "sensor_data_19_gr_df = sensor_data_19_df.groupby(['Date','BayId'], as_index=False).count()\n",
    "sensor_data_19_gr_df = sensor_data_19_gr_df.drop(columns=['ArrivalTime','DepartureTime','StreetMarker','DurationMinutes'])\n",
    "sensor_data_19_gr_df = sensor_data_19_gr_df.rename(columns = {'DeviceId' : 'Vehicle Count'} )"
   ]
  },
  {
   "cell_type": "code",
   "execution_count": 243,
   "metadata": {},
   "outputs": [],
   "source": [
    "#sensor_data_20_gr_df\n",
    "#sensor_data_19_gr_df"
   ]
  },
  {
   "cell_type": "code",
   "execution_count": 267,
   "metadata": {},
   "outputs": [],
   "source": [
    "# concatenate 2019 & 2020 data in to one new df\n",
    "sensor_data_df = pd.concat([sensor_data_20_gr_df,sensor_data_19_gr_df])"
   ]
  },
  {
   "cell_type": "code",
   "execution_count": 244,
   "metadata": {},
   "outputs": [],
   "source": [
    "# sensor_data_df"
   ]
  },
  {
   "cell_type": "code",
   "execution_count": 268,
   "metadata": {},
   "outputs": [],
   "source": [
    "# merged the concatenated transaction data with sensor master data linked on Bay ID\n",
    "sensors_data_merged_df = pd.merge(sensors_df, sensor_data_df, on='BayId', how='inner')"
   ]
  },
  {
   "cell_type": "code",
   "execution_count": null,
   "metadata": {},
   "outputs": [],
   "source": [
    "#sensors_data_merged_d"
   ]
  },
  {
   "cell_type": "code",
   "execution_count": 269,
   "metadata": {},
   "outputs": [],
   "source": [
    "# save the detail data in to a csv\n",
    "output_detail_file = 'Data/cbd_sensor_detail_data.csv'\n",
    "sensors_data_merged_df.to_csv(output_detail_file, encoding='utf-8', index=False)"
   ]
  },
  {
   "cell_type": "code",
   "execution_count": 270,
   "metadata": {},
   "outputs": [],
   "source": [
    "# create a summary df with date and the total vehicles\n",
    "sensors_data_summary_df = sensors_data_merged_df.groupby(['Date']).agg({'Vehicle Count':'sum'}).reset_index()"
   ]
  },
  {
   "cell_type": "code",
   "execution_count": null,
   "metadata": {},
   "outputs": [],
   "source": [
    "#sensors_data_summary_df"
   ]
  },
  {
   "cell_type": "code",
   "execution_count": 271,
   "metadata": {},
   "outputs": [],
   "source": [
    "# save the summary data in to a csv\n",
    "output_summary_file = 'Data/cbd_sensor_summary_data.csv'\n",
    "sensors_data_summary_df.to_csv(output_summary_file, encoding='utf-8', index=False)"
   ]
  }
 ],
 "metadata": {
  "kernelspec": {
   "display_name": "Python [conda env:.conda-PythonData] *",
   "language": "python",
   "name": "conda-env-.conda-PythonData-py"
  },
  "language_info": {
   "codemirror_mode": {
    "name": "ipython",
    "version": 3
   },
   "file_extension": ".py",
   "mimetype": "text/x-python",
   "name": "python",
   "nbconvert_exporter": "python",
   "pygments_lexer": "ipython3",
   "version": "3.6.10"
  }
 },
 "nbformat": 4,
 "nbformat_minor": 4
}
